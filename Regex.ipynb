{
  "nbformat": 4,
  "nbformat_minor": 0,
  "metadata": {
    "colab": {
      "name": "Regex.ipynb",
      "provenance": [],
      "collapsed_sections": [],
      "include_colab_link": true
    },
    "kernelspec": {
      "name": "python3",
      "display_name": "Python 3"
    }
  },
  "cells": [
    {
      "cell_type": "markdown",
      "metadata": {
        "id": "view-in-github",
        "colab_type": "text"
      },
      "source": [
        "<a href=\"https://colab.research.google.com/github/abregasi/Python-Datascience-Projects/blob/master/Regex.ipynb\" target=\"_parent\"><img src=\"https://colab.research.google.com/assets/colab-badge.svg\" alt=\"Open In Colab\"/></a>"
      ]
    },
    {
      "cell_type": "code",
      "metadata": {
        "id": "gLcGINpQ59xk",
        "colab_type": "code",
        "colab": {}
      },
      "source": [
        "REGEX: All you Need To Know to get started\n"
      ],
      "execution_count": 0,
      "outputs": []
    },
    {
      "cell_type": "markdown",
      "metadata": {
        "id": "WbIG1RObK9qL",
        "colab_type": "text"
      },
      "source": [
        "\n",
        "---\n",
        "> by Ariana Bregasi\n",
        "\n"
      ]
    },
    {
      "cell_type": "markdown",
      "metadata": {
        "id": "pOovxt0r6r0V",
        "colab_type": "text"
      },
      "source": [
        "A Regular Expression (**RegEx**) is a sequence of characters that defines a search pattern. \n",
        "\n",
        "The abbreviation for regular expression is **regex** (*REs, regexes, or regex* patterns are also used). Regular expressions are a powerful language for matching text patterns. They are essentially a tiny, highly specialized programming language embedded inside Python and made available through the re module. A pattern defined using **RegEx** can be used to match against a string. The search pattern can be anything from a simple character, a fixed string or a complex expression containing special characters describing the pattern. The pattern defined by the **regex** may match one or several times or not at all for a given string.\n"
      ]
    },
    {
      "cell_type": "markdown",
      "metadata": {
        "id": "qftQqK9665s9",
        "colab_type": "text"
      },
      "source": [
        "# **Meta Characters**\n",
        "\n",
        "---\n",
        "\n",
        "\n",
        "> []^.$*+?{}()|\n",
        "\n",
        "\n",
        "---\n",
        "\n",
        "**These are characters interpreted in a special way by the REGEX engine, used to specify regular expressions**"
      ]
    },
    {
      "cell_type": "markdown",
      "metadata": {
        "id": "8KEl0dV_A2RH",
        "colab_type": "text"
      },
      "source": [
        "\n",
        "> OR operator  [] or |\n",
        "\n"
      ]
    },
    {
      "cell_type": "markdown",
      "metadata": {
        "id": "L4Rx9RZW7Jum",
        "colab_type": "text"
      },
      "source": [
        "[] **Square Brackets** specify a set of characters you wish to match\n",
        "\n",
        "[abc] will match if the string contain any of the a, b, c [a-e] is the same as [abcde] [1-4] is the same as [1234] [0-39] is the same as [01239]"
      ]
    },
    {
      "cell_type": "markdown",
      "metadata": {
        "id": "lnYKqj5HBHvY",
        "colab_type": "text"
      },
      "source": [
        "**| Alternation** (\"or\" operator)\n",
        "\n",
        "a|b matches a or b (matches 1 in art or in bed, matches three times in adcbeda)"
      ]
    },
    {
      "cell_type": "markdown",
      "metadata": {
        "id": "2Ie5E2zcAKV4",
        "colab_type": "text"
      },
      "source": [
        "\n",
        "> Anchors ^ and $"
      ]
    },
    {
      "cell_type": "markdown",
      "metadata": {
        "id": "hJXEz5CU7StA",
        "colab_type": "text"
      },
      "source": [
        "^ **Caret** used to check if a string starts with a certain character\n",
        "\n",
        "^a  starts with a -- will match a or abc or ariana ^ab starts with ab -- will match aberrant, absolute abc etc."
      ]
    },
    {
      "cell_type": "markdown",
      "metadata": {
        "id": "buzhrqVl-jGX",
        "colab_type": "text"
      },
      "source": [
        "**$ Dollar** used to check if a string ends with a certain character\n",
        "\n",
        "a$ matches string that ends with a eg a, data, Dora"
      ]
    },
    {
      "cell_type": "markdown",
      "metadata": {
        "id": "RKuxnP3laeS6",
        "colab_type": "text"
      },
      "source": [
        "\n",
        "\n",
        "> Quantifiers * + ? and {}\n",
        "\n"
      ]
    },
    {
      "cell_type": "markdown",
      "metadata": {
        "id": "wpY6SHwWbDiO",
        "colab_type": "text"
      },
      "source": [
        " ***Star**   matches zero or more occurences of the pattern that follows\n",
        "\n",
        " st*r  will match str string strong strrrr, will not match star "
      ]
    },
    {
      "cell_type": "markdown",
      "metadata": {
        "id": "gk8eQO_aLhlT",
        "colab_type": "text"
      },
      "source": [
        "**+ Plu**s matches one or more occurences of the pattern that follows\n",
        "\n",
        "ma+n matches man, maaan, woman"
      ]
    },
    {
      "cell_type": "markdown",
      "metadata": {
        "id": "_1SsBXCKLhUH",
        "colab_type": "text"
      },
      "source": [
        "**? Question mark**  matches zero or more occurences of the patterns that follows\n",
        "\n",
        "ma?n matches man, woman (not main et)"
      ]
    },
    {
      "cell_type": "markdown",
      "metadata": {
        "id": "4eBDLQ0kLg1M",
        "colab_type": "text"
      },
      "source": [
        "**{} Braces** e.g {2,3} considers at least two and at most three pattern repetitions\n",
        "\n",
        "a{2,3} a repeated two or three times eg aa or aaa (also recognizes the first three a(s) in aaaa)\n",
        "\n",
        "[0.9]{2,4} matches min two max 4 digits eg 123 or 1245"
      ]
    },
    {
      "cell_type": "markdown",
      "metadata": {
        "id": "CcwtnW7lLh45",
        "colab_type": "text"
      },
      "source": [
        "**. Period** matches any single character except a new line ('\\n')\n",
        "\n",
        "**..** matches aa, abc, abcd (does not match a- one character - it expets two)"
      ]
    },
    {
      "cell_type": "markdown",
      "metadata": {
        "id": "U1RKsqUNMj8w",
        "colab_type": "text"
      },
      "source": [
        "**\\ Backslash** is used to escape various characters including metacharacters \n",
        "\n",
        "**\\$a**  will  match if a string contains Dollar sign followed by a ($ is not interpreted as special character)\n"
      ]
    },
    {
      "cell_type": "markdown",
      "metadata": {
        "id": "s8A8oLkr8Ptl",
        "colab_type": "text"
      },
      "source": [
        "\n",
        "# **Special Sequences**\n",
        "\n",
        "---\n",
        "\n",
        "\n"
      ]
    },
    {
      "cell_type": "markdown",
      "metadata": {
        "id": "035OQSXO8etI",
        "colab_type": "text"
      },
      "source": [
        "**\\A** Matches if the special characters are at the start of a string\n",
        "** \\At the** Matches \"The sun\", does not match \"In the sun\"\n",
        "\n",
        "**\\b** Matches if the special character is at the beginning or end of the word \\bfoo (football) ick\\b (sick) - represents an anchor like caret\n",
        "\n",
        "**\\B** Matches if the special characters are not in the beginning or end of the word (opposite of \\b) \\Bic or ic\\B will match sick \n",
        "\n",
        "**\\d** Matches any decimal digit [0-9] \n",
        "\n",
        "**\\D** Matches any non-decimal digit [^0-9]\n",
        "\n",
        "**\\$\\d** Matches a string that has a $ before one digit\n",
        "\n",
        "**\\s** Matches where a string contains whitespace [ \\t\\n\\r\\f\\v] \n",
        "\n",
        "**\\S** Matches where a string contains non-whitespace characters [^ \\t\\n\\r\\f\\v]\n",
        "\n",
        "**\\w** Matches any alphanumeric character (numbers and letters) [a-zA-Z0-9_](underscore is also alphaumeric character\n",
        "\n",
        " **\\W**  Matches any non-alphanumeric character (eg %^&*$#@!? etc) [^a-zA-Z0-9_] \n",
        "\n",
        "**\\Z** Matches specified charaters at the end of a string (eg. \\Zthon will match Python)"
      ]
    },
    {
      "cell_type": "markdown",
      "metadata": {
        "id": "QceiLN5s9eND",
        "colab_type": "text"
      },
      "source": [
        "\n",
        "\n",
        "---\n",
        "\n",
        "\n",
        "A Regex object is **immutable**, which means that it can be used only for the match pattern you define when you create it. However, it can be used any number of times without being recompiled. \n",
        "\n",
        "---\n",
        "\n"
      ]
    },
    {
      "cell_type": "markdown",
      "metadata": {
        "id": "QEftSbG3gxRW",
        "colab_type": "text"
      },
      "source": [
        "# Getting Started \n",
        "\n",
        "---\n",
        "\n",
        "### > This section will contain a few of the most common modules of REGEX\n",
        "\n"
      ]
    },
    {
      "cell_type": "markdown",
      "metadata": {
        "id": "jBStUsfqhBrs",
        "colab_type": "text"
      },
      "source": [
        "First import module into python"
      ]
    },
    {
      "cell_type": "code",
      "metadata": {
        "id": "Sgm1RORPhFOH",
        "colab_type": "code",
        "colab": {}
      },
      "source": [
        "import re"
      ],
      "execution_count": 0,
      "outputs": []
    },
    {
      "cell_type": "markdown",
      "metadata": {
        "id": "8GxDt-2GhLDD",
        "colab_type": "text"
      },
      "source": [
        "Define the pattern and the string you are going to search"
      ]
    },
    {
      "cell_type": "code",
      "metadata": {
        "id": "C1kUA6unhf_p",
        "colab_type": "code",
        "colab": {}
      },
      "source": [
        "string = 'Hello14 ! It is:1 beautiful day today.' \n",
        "pattern = '\\d+'"
      ],
      "execution_count": 0,
      "outputs": []
    },
    {
      "cell_type": "markdown",
      "metadata": {
        "id": "4Z8yTPu9hxre",
        "colab_type": "text"
      },
      "source": [
        "re.findall() returns a list containing all matches"
      ]
    },
    {
      "cell_type": "code",
      "metadata": {
        "id": "VUYQRHn2h7GI",
        "colab_type": "code",
        "colab": {}
      },
      "source": [
        "string = 'Hello 14 ! It is:1 beautiful day today.' \n",
        "pattern = '\\d+'\n",
        "result = re.findall (string, pattern)\n",
        "print(result)\n",
        "\n",
        "#Output ['14', '1']\n"
      ],
      "execution_count": 0,
      "outputs": []
    },
    {
      "cell_type": "markdown",
      "metadata": {
        "id": "I6M1aVGpjJK8",
        "colab_type": "text"
      },
      "source": [
        "re.split() splits the string where there is a match and returns a list of strings where the splits have occurred"
      ]
    },
    {
      "cell_type": "code",
      "metadata": {
        "id": "9IX2am_Ajapk",
        "colab_type": "code",
        "colab": {}
      },
      "source": [
        "result2 = re.split(string, pattern)\n",
        "print (result2)\n",
        "\n",
        "#Output: ['Hello', 'is']"
      ],
      "execution_count": 0,
      "outputs": []
    },
    {
      "cell_type": "markdown",
      "metadata": {
        "id": "zUEG6ZAbj9Cp",
        "colab_type": "text"
      },
      "source": [
        "re.sub()  returns a string where matched occurrences are replaced with the content of replace variable."
      ]
    },
    {
      "cell_type": "code",
      "metadata": {
        "id": "9Dv2XksIkbDo",
        "colab_type": "code",
        "outputId": "67bd18dd-9d94-48e6-eeb9-2f5596a3ea9b",
        "colab": {
          "base_uri": "https://localhost:8080/",
          "height": 34
        }
      },
      "source": [
        "#replace all whitespace with ','\n",
        "pattern = '\\s+'\n",
        "repl = ','\n",
        "string = 'I like going to the mountains'\n",
        "\n",
        "result3= re.sub(pattern, repl, string)\n",
        "print(result3)"
      ],
      "execution_count": 0,
      "outputs": [
        {
          "output_type": "stream",
          "text": [
            "I,like,going,to,the,mountains\n"
          ],
          "name": "stdout"
        }
      ]
    },
    {
      "cell_type": "markdown",
      "metadata": {
        "id": "zWZ6_Vf_oGwO",
        "colab_type": "text"
      },
      "source": [
        "You can also add a counting parameter to specify the number of times you want to do the replacement "
      ]
    },
    {
      "cell_type": "code",
      "metadata": {
        "id": "4eT-6wuXo1T7",
        "colab_type": "code",
        "outputId": "8ff9f31a-9b89-4721-ec07-01767014a5ed",
        "colab": {
          "base_uri": "https://localhost:8080/",
          "height": 34
        }
      },
      "source": [
        "pattern = '\\s+'\n",
        "repl = ','\n",
        "string = 'I like going to the mountains'\n",
        "result4 = re.sub(pattern, repl, string, count=2)\n",
        "print(result4)"
      ],
      "execution_count": 0,
      "outputs": [
        {
          "output_type": "stream",
          "text": [
            "I,like,going to the mountains\n"
          ],
          "name": "stdout"
        }
      ]
    },
    {
      "cell_type": "markdown",
      "metadata": {
        "id": "n-jhDR-7pR5d",
        "colab_type": "text"
      },
      "source": [
        "re.subn() is like above, nut returns a tuple with the new string and the number of substitutions made"
      ]
    },
    {
      "cell_type": "code",
      "metadata": {
        "id": "vN3HRKG-pRB9",
        "colab_type": "code",
        "outputId": "8e52308c-f988-45bd-ba89-9d6c004e9141",
        "colab": {
          "base_uri": "https://localhost:8080/",
          "height": 34
        }
      },
      "source": [
        "pattern = '\\s+'\n",
        "repl = ','\n",
        "string= 'I like going to the mountains'\n",
        "tring)\n",
        "print(result5)\n",
        "result5 = re.subn(pattern, repl, s"
      ],
      "execution_count": 0,
      "outputs": [
        {
          "output_type": "stream",
          "text": [
            "('I,like,going,to,the,mountains', 5)\n"
          ],
          "name": "stdout"
        }
      ]
    },
    {
      "cell_type": "markdown",
      "metadata": {
        "id": "-m0NIY6tp-4W",
        "colab_type": "text"
      },
      "source": [
        "re.search() takes a pattern and a string and loos for the first location where the RegEx pattern produces a match with the string. If the search is successful, re.search() returns a match object; if not, it returns None."
      ]
    },
    {
      "cell_type": "code",
      "metadata": {
        "id": "EtdPHm6Kqqv6",
        "colab_type": "code",
        "outputId": "7652d35e-67c1-4bca-c31d-10c3e16f8eee",
        "colab": {
          "base_uri": "https://localhost:8080/",
          "height": 34
        }
      },
      "source": [
        "pattern = '\\AI'\n",
        "string = \"I like going to the mointains\"\n",
        "result6=re.search(pattern, string)\n",
        "print(result6)"
      ],
      "execution_count": 0,
      "outputs": [
        {
          "output_type": "stream",
          "text": [
            "<_sre.SRE_Match object; span=(0, 1), match='I'>\n"
          ],
          "name": "stdout"
        }
      ]
    },
    {
      "cell_type": "markdown",
      "metadata": {
        "id": "33EKtYmQnMAk",
        "colab_type": "text"
      },
      "source": [
        "**Match**\n",
        "match is an object that takes several attributes\n",
        "> you can get match attributes and methods using dir() function\n",
        "\n",
        "Here are some of the most used matched attributes:\n",
        "\n",
        "**match.group()**  returns part of the string where there is a match\n"
      ]
    },
    {
      "cell_type": "code",
      "metadata": {
        "id": "JJddhNGDBZfz",
        "colab_type": "code",
        "colab": {}
      },
      "source": [
        "string = '12345 678'\n",
        "pattern = '(\\d{3}) (\\d{2})'\n",
        "\n",
        "match = re.search(pattern, string) \n",
        "if match:\n",
        "  print(match.group())\n",
        "else:\n",
        "  print(\"pattern not found\")\n",
        "\n",
        "# Output: 345 67\n"
      ],
      "execution_count": 0,
      "outputs": []
    },
    {
      "cell_type": "markdown",
      "metadata": {
        "id": "2g5eXBdhB1gr",
        "colab_type": "text"
      },
      "source": [
        "match.start(), match.end() and match.span()"
      ]
    },
    {
      "cell_type": "code",
      "metadata": {
        "id": "xsMwMniTDMwM",
        "colab_type": "code",
        "colab": {}
      },
      "source": [
        "match.start()\n",
        ">>>1\n",
        "match.end()\n",
        ">>>8\n",
        "match.span()\n",
        ">>>(1,8)"
      ],
      "execution_count": 0,
      "outputs": []
    },
    {
      "cell_type": "markdown",
      "metadata": {
        "id": "mkXJFyMlDuoO",
        "colab_type": "text"
      },
      "source": [
        "match.string()"
      ]
    },
    {
      "cell_type": "code",
      "metadata": {
        "id": "f9odHF-vD2Un",
        "colab_type": "code",
        "colab": {}
      },
      "source": [
        "match.string()\n",
        ">>>'12345 678'"
      ],
      "execution_count": 0,
      "outputs": []
    },
    {
      "cell_type": "markdown",
      "metadata": {
        "id": "9I5KqZ5NFjcC",
        "colab_type": "text"
      },
      "source": [
        "\n",
        "\n",
        "---\n",
        "**Note:** If there is no match, the value **None** will be returned, instead of the Match Object.\n",
        "\n",
        "\n",
        "---\n",
        "\n"
      ]
    },
    {
      "cell_type": "markdown",
      "metadata": {
        "id": "wGOxfjfMeoBi",
        "colab_type": "text"
      },
      "source": [
        "As you can imagine Regex can have multiple applications. Some of the most common fields include **data validation**, \n",
        "**data scraping** (e.g find words in specific order), \n",
        "**data wrangling** (transform data to different formats), \n",
        "**string parsing** (for example capture text inside a set of parenthesis), \n",
        "**string replacement** (for example replace “;” with “,” make it lowercase,etc.), **file renaming**  and many other applications involving strings."
      ]
    },
    {
      "cell_type": "markdown",
      "metadata": {
        "id": "W920PzG7GsLC",
        "colab_type": "text"
      },
      "source": [
        "\n",
        "\n",
        "---\n",
        "\n",
        "\n",
        "\n",
        "---\n",
        "Resources:\n",
        "\n",
        "https://www.programiz.com/python-programming/regex\n",
        "\n",
        "https://medium.com/factory-mind/regex-tutorial-a-simple-cheatsheet-by-examples-649dc1c3f285\n",
        "\n",
        "https://www.w3schools.com/python/python_regex.asp\n",
        "\n",
        "https://docs.python.org/3/howto/regex.html\n",
        "\n"
      ]
    }
  ]
}